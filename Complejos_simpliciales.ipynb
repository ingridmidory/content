{
  "nbformat": 4,
  "nbformat_minor": 0,
  "metadata": {
    "colab": {
      "provenance": [],
      "authorship_tag": "ABX9TyNyvlgAkKRtYXdQOzzeXe/1",
      "include_colab_link": true
    },
    "kernelspec": {
      "name": "python3",
      "display_name": "Python 3"
    },
    "language_info": {
      "name": "python"
    }
  },
  "cells": [
    {
      "cell_type": "markdown",
      "metadata": {
        "id": "view-in-github",
        "colab_type": "text"
      },
      "source": [
        "<a href=\"https://colab.research.google.com/github/ingridmidory/content/blob/main/Complejos_simpliciales.ipynb\" target=\"_parent\"><img src=\"https://colab.research.google.com/assets/colab-badge.svg\" alt=\"Open In Colab\"/></a>"
      ]
    },
    {
      "cell_type": "markdown",
      "source": [
        "# Complejos simpliciales\n",
        "\n",
        "En este Notebook se presentan algunas fuciones básicas para el tratamiento de complejos simpliciales con Gudhi. Primero se importan las bibliotecas necesarias (a veces se debe instalar la biblioteca Gudhi).\n",
        "\n"
      ],
      "metadata": {
        "id": "KmyZ83jfZl4P"
      }
    },
    {
      "cell_type": "code",
      "execution_count": 3,
      "metadata": {
        "colab": {
          "base_uri": "https://localhost:8080/"
        },
        "id": "x_L1w-6-X5MR",
        "outputId": "f010665d-bc65-40b4-a7f0-47eec4ab58d1"
      },
      "outputs": [
        {
          "output_type": "stream",
          "name": "stdout",
          "text": [
            "Looking in indexes: https://pypi.org/simple, https://us-python.pkg.dev/colab-wheels/public/simple/\n",
            "Collecting gudhi\n",
            "  Downloading gudhi-3.6.0-cp37-cp37m-manylinux_2_17_x86_64.manylinux2014_x86_64.whl (28.7 MB)\n",
            "\u001b[K     |████████████████████████████████| 28.7 MB 1.2 MB/s \n",
            "\u001b[?25hRequirement already satisfied: numpy>=1.15.0 in /usr/local/lib/python3.7/dist-packages (from gudhi) (1.21.6)\n",
            "Installing collected packages: gudhi\n",
            "Successfully installed gudhi-3.6.0\n"
          ]
        }
      ],
      "source": [
        "! pip install gudhi\n",
        "import numpy as np\n",
        "import gudhi as gd\n",
        "from mpl_toolkits.mplot3d import Axes3D\n",
        "from mpl_toolkits.mplot3d.art3d import Line3DCollection\n",
        "import matplotlib.pyplot as plt"
      ]
    },
    {
      "cell_type": "markdown",
      "source": [
        "Se inicializa un complejo simplicial vacío y se puede completar de manera manual con arreglos de números que corresponden a los simplejos del complejo simplicial. También se pueden importar los complejos."
      ],
      "metadata": {
        "id": "vq0gjqFgay18"
      }
    },
    {
      "cell_type": "code",
      "source": [
        "complejo = gd.SimplexTree() #Se inicializa un complejo simplicial vacío\n",
        "complejo.insert([0,1]) # Función que inserta un nuevo 1-simplejo al complejo simplicial\n",
        "complejo.insert([1,2])\n",
        "complejo.insert([2,0])\n",
        "complejo.insert([0,1,2])\n",
        "complejo.insert([0,3])\n",
        "complejo.insert([4])"
      ],
      "metadata": {
        "colab": {
          "base_uri": "https://localhost:8080/"
        },
        "id": "NHsyh4i1YScw",
        "outputId": "2eff70f5-a81f-40c6-a5e2-5a37c67667a7"
      },
      "execution_count": 4,
      "outputs": [
        {
          "output_type": "execute_result",
          "data": {
            "text/plain": [
              "True"
            ]
          },
          "metadata": {},
          "execution_count": 4
        }
      ]
    },
    {
      "cell_type": "markdown",
      "source": [
        "Algunas de las propiedades de los complejos simpliciales que se pueden calcular con Gudhi: dimensión, números de simplejos y vértices. También se puede calcular el p-esqueleto de un complejo simplicial para $p\\geq 0$ , y éste es un objeto iterable."
      ],
      "metadata": {
        "id": "RhrccWqla2sx"
      }
    },
    {
      "cell_type": "code",
      "source": [
        "print(\"dimensión=\",complejo.dimension())\n",
        "print(\"número de simplejos=\", complejo.num_simplices())\n",
        "print(\"número de vértices=\", complejo.num_vertices())\n",
        "print(\"0-esqueleto=\", complejo.get_skeleton(0))\n",
        "print(\"1-esqueleto=\", complejo.get_skeleton(1))\n",
        "print(\"2-esqueleto=\", complejo.get_skeleton(2))\n"
      ],
      "metadata": {
        "colab": {
          "base_uri": "https://localhost:8080/"
        },
        "id": "Q5yJ1UozYUxy",
        "outputId": "1026d3ff-4e96-419f-c507-a40526049a66"
      },
      "execution_count": 5,
      "outputs": [
        {
          "output_type": "stream",
          "name": "stdout",
          "text": [
            "dimensión= 2\n",
            "número de simplejos= 10\n",
            "número de vértices= 5\n",
            "0-esqueleto= <generator object at 0x7f57526ad9f0>\n",
            "1-esqueleto= <generator object at 0x7f57526ad9f0>\n",
            "2-esqueleto= <generator object at 0x7f57526ad9f0>\n"
          ]
        }
      ]
    },
    {
      "cell_type": "code",
      "source": [
        "complejo_colaps = complejo\n",
        "complejo_colaps.collapse_edges(2)\n",
        "print(\"dimensión=\",complejo_colaps.dimension())\n",
        "print(\"número de simplejos=\", complejo_colaps.num_simplices())\n",
        "print(\"número de vértices=\", complejo_colaps.num_vertices())\n",
        "#complejo_colaps.expansion(3)\n",
        "#print(\"dimensión=\",complejo_colaps.dimension())\n",
        "#print(\"número de simplejos=\", complejo_colaps.num_simplices())\n",
        "#print(\"número de vértices=\", complejo_colaps.num_vertices())"
      ],
      "metadata": {
        "colab": {
          "base_uri": "https://localhost:8080/"
        },
        "id": "gstHQ6ojYX9K",
        "outputId": "897ad175-072d-4bdf-f7cc-2b2fb9f69686"
      },
      "execution_count": 6,
      "outputs": [
        {
          "output_type": "stream",
          "name": "stdout",
          "text": [
            "dimensión= 1\n",
            "número de simplejos= 8\n",
            "número de vértices= 5\n"
          ]
        }
      ]
    },
    {
      "cell_type": "markdown",
      "source": [
        "# Gráficas de complejos simpliciales\n",
        "\n",
        "---\n",
        "\n",
        "Este método de graficación de complejos simpliciales de dimensión a lo más 3 se basa en Matplotlib. Primero se definen los puntos en R^3 que corresponden a los vértices del complejo. A partir de estos vértices se definen los simplejos de dimensiones superiores."
      ],
      "metadata": {
        "id": "88mjMsPoYa1j"
      }
    },
    {
      "cell_type": "code",
      "source": [
        "# Coordenadas de los puntos\n",
        "puntos=np.array([[0,0,0],[1,0,0],[0,1,0],[0,0,1], [1,0,1]])\n",
        "# Lista de 2-simplejos\n",
        "triangulos = np.array([s[0] for s in complejo.get_skeleton(2) if len(s[0])==3])\n",
        "# Lista de 1-simplejos\n",
        "aristas = []\n",
        "for s in complejo.get_skeleton(1):\n",
        "    e = s[0]\n",
        "    if len(e) == 2:\n",
        "        aristas.append(puntos[[e[0],e[1]]])"
      ],
      "metadata": {
        "id": "KZ3DmnQCYhjJ"
      },
      "execution_count": 7,
      "outputs": []
    },
    {
      "cell_type": "code",
      "source": [
        "fig = plt.figure()\n",
        "ax = fig.gca(projection='3d')\n",
        "# Gráfica triángulos\n",
        "ax.plot_trisurf(puntos[:,0], puntos[:,1], puntos[:,2], triangles=triangulos)\n",
        "# Gráfica puntos\n",
        "ax.scatter3D(puntos[:,0], puntos[:,1], puntos[:,2])\n",
        "# Gráfica aristas\n",
        "ax.add_collection3d(Line3DCollection(segments=aristas))\n",
        "plt.show()"
      ],
      "metadata": {
        "colab": {
          "base_uri": "https://localhost:8080/",
          "height": 248
        },
        "id": "FupkjNFIYklh",
        "outputId": "a02e91ea-e4c6-4414-9ae7-2306be643b11"
      },
      "execution_count": 8,
      "outputs": [
        {
          "output_type": "display_data",
          "data": {
            "text/plain": [
              "<Figure size 432x288 with 1 Axes>"
            ],
            "image/png": "[encoded data removed]"
          },
          "metadata": {
            "needs_background": "light"
          }
        }
      ]
    },
    {
      "cell_type": "markdown",
      "source": [
        "Aquí definimos el complejo simplicial formado por el 3-simplejo  𝜎=[0,1,2,3]  y todas sus caras. Notar que basta con insertar en el complejo a  𝜎  y el algoritmo automáticamente lo completa a un complejo simplicial agregando las caras faltantes."
      ],
      "metadata": {
        "id": "R-b-hPyFYn-8"
      }
    },
    {
      "cell_type": "code",
      "source": [
        "complejo2 = gd.SimplexTree() \n",
        "complejo2.insert([0,1,2,3]) \n",
        "print(\"dimensión=\",complejo2.dimension())\n",
        "print(\"número de simplejos=\", complejo2.num_simplices())\n",
        "print(\"número de vértices=\", complejo2.num_vertices())"
      ],
      "metadata": {
        "colab": {
          "base_uri": "https://localhost:8080/"
        },
        "id": "3lI_n1_7YnTT",
        "outputId": "f30bcb23-1c42-4cfc-8d5b-d1a706d61b27"
      },
      "execution_count": 9,
      "outputs": [
        {
          "output_type": "stream",
          "name": "stdout",
          "text": [
            "dimensión= 3\n",
            "número de simplejos= 15\n",
            "número de vértices= 4\n"
          ]
        }
      ]
    },
    {
      "cell_type": "code",
      "source": [
        "# Coordenadas de los puntos\n",
        "puntos=np.array([[0,0,0],[1,0,0],[0,1,0],[0,0,1]])\n",
        "# Lista de 2-simplejos\n",
        "triangulos = np.array([s[0] for s in complejo2.get_skeleton(2) if len(s[0])==3])\n",
        "# Lista de 1-simplejos\n",
        "aristas = []\n",
        "for s in complejo2.get_skeleton(1):\n",
        "    e = s[0]\n",
        "    if len(e) == 2:\n",
        "        aristas.append(puntos[[e[0],e[1]]])"
      ],
      "metadata": {
        "id": "FzWJjx4JYtAh"
      },
      "execution_count": 10,
      "outputs": []
    },
    {
      "cell_type": "code",
      "source": [
        "fig = plt.figure()\n",
        "ax = fig.gca(projection='3d')\n",
        "# Gráfica triángulos\n",
        "ax.plot_trisurf(puntos[:,0], puntos[:,1], puntos[:,2], triangles=triangulos)\n",
        "# Gráfica puntos\n",
        "ax.scatter3D(puntos[:,0], puntos[:,1], puntos[:,2])\n",
        "# Gráfica aristas\n",
        "ax.add_collection3d(Line3DCollection(segments=aristas))\n",
        "plt.show()"
      ],
      "metadata": {
        "colab": {
          "base_uri": "https://localhost:8080/",
          "height": 248
        },
        "id": "uOCBwQ8JYtKN",
        "outputId": "e0d7cf86-9eae-4283-99d3-61f037e78428"
      },
      "execution_count": 11,
      "outputs": [
        {
          "output_type": "display_data",
          "data": {
            "text/plain": [
              "<Figure size 432x288 with 1 Axes>"
            ],
            "image/png": "[encoded data removed]"
          },
          "metadata": {
            "needs_background": "light"
          }
        }
      ]
    },
    {
      "cell_type": "markdown",
      "source": [
        "Dado un simplejo $\\sigma$ en un complejo simplicial $K$ se pueden calcular en Gudhi las caras de $\\sigma$ de dimensión $dim(\\sigma)-1$ con la función get_boundaries. También se pueden calcular las cocaras de $\\sigma$ de cierta dimensión mayor a $dim(\\sigma)$ (Una cocara de $\\sigma$ es cualquier simplejo de $K$ que tiene a $\\sigma$ como una cara). "
      ],
      "metadata": {
        "id": "Bg6ltfweYy6B"
      }
    },
    {
      "cell_type": "code",
      "source": [
        "for bd in complejo2.get_boundaries([0,1,2,3]):\n",
        "    print(bd)"
      ],
      "metadata": {
        "colab": {
          "base_uri": "https://localhost:8080/"
        },
        "id": "h_W5xIaYY4QE",
        "outputId": "74bd86af-c370-4311-a870-64555d99f475"
      },
      "execution_count": 12,
      "outputs": [
        {
          "output_type": "stream",
          "name": "stdout",
          "text": [
            "([0, 1, 2], 0.0)\n",
            "([0, 1, 3], 0.0)\n",
            "([0, 2, 3], 0.0)\n",
            "([1, 2, 3], 0.0)\n"
          ]
        }
      ]
    },
    {
      "cell_type": "code",
      "source": [
        "print(\"cocaras de [0] de dimensión 1\")\n",
        "for cf in complejo2.get_cofaces([0],1):\n",
        "    print(cf)\n",
        "print(\"cocaras de [0] de dimensión 2\")\n",
        "for cf in complejo2.get_cofaces([0],2):\n",
        "    print(cf)"
      ],
      "metadata": {
        "colab": {
          "base_uri": "https://localhost:8080/"
        },
        "id": "7uWnRxoxY8Cu",
        "outputId": "1c14d2db-753e-4423-b789-10df34a346e1"
      },
      "execution_count": 13,
      "outputs": [
        {
          "output_type": "stream",
          "name": "stdout",
          "text": [
            "cocaras de [0] de dimensión 1\n",
            "([0, 1], 0.0)\n",
            "([0, 2], 0.0)\n",
            "([0, 3], 0.0)\n",
            "cocaras de [0] de dimensión 2\n",
            "([0, 1, 2], 0.0)\n",
            "([0, 1, 3], 0.0)\n",
            "([0, 2, 3], 0.0)\n"
          ]
        }
      ]
    },
    {
      "cell_type": "markdown",
      "source": [
        "## Cálculo de la Homología Simplicial\n",
        "\n",
        "Para el cálculo de la homología simplicial, primero se debe llamar a la función 'compute_persistence()'. Uno de los parámetros que se pueden incluir en la función es el campo de coeficientes mediante un entero primo $p$, para representar a $\\mathbb{Z}_{p}$. Recordar que el $i$-ésimo número de Betti $b_{i}$ es el rango del grupo de homología $H_{i}(K,\\mathbb{Z}_{p})$. La función 'betti_numbers()' regresa el arreglo de números de Betti $(b_{0},b_{1},...,b_{max})$."
      ],
      "metadata": {
        "id": "IWbkyp62Y_PQ"
      }
    },
    {
      "cell_type": "code",
      "source": [
        "complejo.compute_persistence(homology_coeff_field=7)\n",
        "print(\"Los números de Betti del complejo 1 son\",complejo.betti_numbers())"
      ],
      "metadata": {
        "colab": {
          "base_uri": "https://localhost:8080/"
        },
        "id": "XPHm_zsPZAcZ",
        "outputId": "18270e9f-a2e3-46e8-da0d-d71604d065a4"
      },
      "execution_count": 14,
      "outputs": [
        {
          "output_type": "stream",
          "name": "stdout",
          "text": [
            "Los números de Betti del complejo 1 son [2]\n"
          ]
        }
      ]
    },
    {
      "cell_type": "code",
      "source": [
        "complejo2.compute_persistence()\n",
        "print(\"Los números de Betti del complejo 2 son\",complejo2.betti_numbers())"
      ],
      "metadata": {
        "colab": {
          "base_uri": "https://localhost:8080/"
        },
        "id": "LJOstS8tZGFp",
        "outputId": "edad4b07-d95b-4c21-8395-6b5f8b271fb2"
      },
      "execution_count": 15,
      "outputs": [
        {
          "output_type": "stream",
          "name": "stdout",
          "text": [
            "Los números de Betti del complejo 2 son [1, 0, 0]\n"
          ]
        }
      ]
    },
    {
      "cell_type": "code",
      "source": [
        "anillo = gd.SimplexTree() #Se inicializa un complejo simplicial vacío\n",
        "anillo.insert([0,1,2]) # Se incertan de manera manual los 2-simplejos de la triangulación del toro\n",
        "anillo.insert([1,3,2])\n",
        "anillo.insert([2,3,4])\n",
        "anillo.insert([4,3,5])\n",
        "anillo.insert([4,5,0])\n",
        "anillo.insert([0,5,1])"
      ],
      "metadata": {
        "colab": {
          "base_uri": "https://localhost:8080/"
        },
        "id": "RalMVLNpZJiN",
        "outputId": "c0a371a4-0715-463a-80eb-842dee949e61"
      },
      "execution_count": 16,
      "outputs": [
        {
          "output_type": "execute_result",
          "data": {
            "text/plain": [
              "True"
            ]
          },
          "metadata": {},
          "execution_count": 16
        }
      ]
    },
    {
      "cell_type": "code",
      "source": [
        "print(\"dimensión=\",anillo.dimension())\n",
        "print(\"número de simplejos=\", anillo.num_simplices())\n",
        "print(\"número de vértices=\", anillo.num_vertices())"
      ],
      "metadata": {
        "colab": {
          "base_uri": "https://localhost:8080/"
        },
        "id": "1A6BNsXBZLvD",
        "outputId": "d9b3c2b7-de8c-4e68-fde2-b6abcb338c0d"
      },
      "execution_count": 17,
      "outputs": [
        {
          "output_type": "stream",
          "name": "stdout",
          "text": [
            "dimensión= 2\n",
            "número de simplejos= 24\n",
            "número de vértices= 6\n"
          ]
        }
      ]
    },
    {
      "cell_type": "code",
      "source": [
        "anillo.compute_persistence()\n",
        "print(\"Los números de Betti del anillo son\",anillo.betti_numbers())"
      ],
      "metadata": {
        "colab": {
          "base_uri": "https://localhost:8080/"
        },
        "id": "itrURRf_ZORv",
        "outputId": "7fb2d6fd-1aff-4e16-b9c7-c61fbce879fd"
      },
      "execution_count": 18,
      "outputs": [
        {
          "output_type": "stream",
          "name": "stdout",
          "text": [
            "Los números de Betti del anillo son [1, 1]\n"
          ]
        }
      ]
    },
    {
      "cell_type": "markdown",
      "source": [
        "𝐄𝐣𝐞𝐫𝐜𝐢𝐜𝐢𝐨 15 : Calcular los grupos de homología simplicial de la banda de Möbius y del toro."
      ],
      "metadata": {
        "id": "ZjyOC0OJZS4-"
      }
    },
    {
      "cell_type": "code",
      "source": [],
      "metadata": {
        "id": "SB7XVSWyZScf"
      },
      "execution_count": null,
      "outputs": []
    }
  ]
}